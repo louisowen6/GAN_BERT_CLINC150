{
  "nbformat": 4,
  "nbformat_minor": 0,
  "metadata": {
    "colab": {
      "name": "Data Preparation.ipynb",
      "provenance": [],
      "collapsed_sections": []
    },
    "kernelspec": {
      "name": "python3",
      "display_name": "Python 3"
    }
  },
  "cells": [
    {
      "cell_type": "code",
      "metadata": {
        "id": "ujl5FMXrfV7M",
        "colab_type": "code",
        "colab": {
          "base_uri": "https://localhost:8080/",
          "height": 121
        },
        "outputId": "ca3d6e68-b382-4434-b6c8-df2d148b6e7a"
      },
      "source": [
        "from google.colab import drive\n",
        "drive.mount('/content/gdrive')"
      ],
      "execution_count": null,
      "outputs": [
        {
          "output_type": "stream",
          "text": [
            "Go to this URL in a browser: https://accounts.google.com/o/oauth2/auth?client_id=947318989803-6bn6qk8qdgf4n4g3pfee6491hc0brc4i.apps.googleusercontent.com&redirect_uri=urn%3aietf%3awg%3aoauth%3a2.0%3aoob&scope=email%20https%3a%2f%2fwww.googleapis.com%2fauth%2fdocs.test%20https%3a%2f%2fwww.googleapis.com%2fauth%2fdrive%20https%3a%2f%2fwww.googleapis.com%2fauth%2fdrive.photos.readonly%20https%3a%2f%2fwww.googleapis.com%2fauth%2fpeopleapi.readonly&response_type=code\n",
            "\n",
            "Enter your authorization code:\n",
            "··········\n",
            "Mounted at /content/gdrive\n"
          ],
          "name": "stdout"
        }
      ]
    },
    {
      "cell_type": "code",
      "metadata": {
        "id": "wSXDhctffjs7",
        "colab_type": "code",
        "colab": {
          "base_uri": "https://localhost:8080/",
          "height": 34
        },
        "outputId": "55c16720-1700-4dc5-e494-0ae1feaae3c3"
      },
      "source": [
        "%cd \"/content/gdrive/My Drive/GAN-BERT/data_CLINC150\""
      ],
      "execution_count": null,
      "outputs": [
        {
          "output_type": "stream",
          "text": [
            "/content/gdrive/My Drive/GAN-BERT/data_CLINC150\n"
          ],
          "name": "stdout"
        }
      ]
    },
    {
      "cell_type": "code",
      "metadata": {
        "id": "FkTp119zfr7n",
        "colab_type": "code",
        "colab": {}
      },
      "source": [
        "import pandas as pd\n",
        "import json\n",
        "from sklearn.model_selection import train_test_split"
      ],
      "execution_count": null,
      "outputs": []
    },
    {
      "cell_type": "code",
      "metadata": {
        "id": "ulhiXp_efvfG",
        "colab_type": "code",
        "colab": {}
      },
      "source": [
        "with open('data_full.json') as json_file:\n",
        "    data = json.load(json_file)"
      ],
      "execution_count": null,
      "outputs": []
    },
    {
      "cell_type": "code",
      "metadata": {
        "id": "eAVLJc5qgZli",
        "colab_type": "code",
        "colab": {
          "base_uri": "https://localhost:8080/",
          "height": 34
        },
        "outputId": "0cd10a4f-aa05-4385-9a62-5a60d7764feb"
      },
      "source": [
        "data.keys()"
      ],
      "execution_count": null,
      "outputs": [
        {
          "output_type": "execute_result",
          "data": {
            "text/plain": [
              "dict_keys(['oos_val', 'val', 'train', 'oos_test', 'test', 'oos_train'])"
            ]
          },
          "metadata": {
            "tags": []
          },
          "execution_count": 5
        }
      ]
    },
    {
      "cell_type": "code",
      "metadata": {
        "id": "zx2r2RpTlK54",
        "colab_type": "code",
        "colab": {}
      },
      "source": [
        "test_data = data['test']\n",
        "test_OOS_data = data['oos_test']\n",
        "\n",
        "with open('test.tsv','a+') as f_out:\n",
        "    f_out.write('fine_label utterance'+'\\n')\n",
        "with open('test_OOS.tsv','a+') as f_out:\n",
        "    f_out.write('fine_label utterance'+'\\n')\n",
        "\n",
        "with open('test.tsv','a+') as f_out:\n",
        "    for lst in test_data:\n",
        "        line = ' '.join(lst[::-1])\n",
        "        f_out.write(line+'\\n')\n",
        "\n",
        "with open('test_OOS.tsv','a+') as f_out:\n",
        "    for lst in test_OOS_data:\n",
        "        line = ' '.join(['OOS',lst[0]])\n",
        "        f_out.write(line+'\\n')"
      ],
      "execution_count": null,
      "outputs": []
    },
    {
      "cell_type": "code",
      "metadata": {
        "id": "bEM9eTqfmuaf",
        "colab_type": "code",
        "colab": {}
      },
      "source": [
        "def split_labeled(labeled_prop,unlabeled_prop):\n",
        "    test_size = unlabeled_prop/ (labeled_prop + unlabeled_prop)\n",
        "    df_labeled, df_unlabeled = train_test_split(df_train,stratify=df_train['label'], test_size=test_size, random_state=42)\n",
        "\n",
        "    df_labeled = df_labeled.reset_index(drop=True)\n",
        "    df_unlabeled = df_unlabeled.reset_index(drop=True)\n",
        "\n",
        "    with open(f'{labeled_prop}_{unlabeled_prop}/labeled.tsv','a+') as f_out:\n",
        "        f_out.write('fine_label utterance'+'\\n')\n",
        "    with open(f'{labeled_prop}_{unlabeled_prop}/labeled.tsv','a+') as f_out:\n",
        "        for i in range(len(df_labeled)):\n",
        "            line = ' '.join([df_labeled.loc[i,'label'], df_labeled.loc[i,'query']])\n",
        "            f_out.write(line+'\\n')\n",
        "\n",
        "    with open(f'{labeled_prop}_{unlabeled_prop}/unlabeled.tsv','a+') as f_out:\n",
        "        f_out.write('fine_label utterance'+'\\n')\n",
        "    with open(f'{labeled_prop}_{unlabeled_prop}/unlabeled.tsv','a+') as f_out:\n",
        "        for i in range(len(df_unlabeled)):\n",
        "            line = ' '.join(['UNK_UNK', df_unlabeled.loc[i,'query']])\n",
        "            f_out.write(line+'\\n')"
      ],
      "execution_count": null,
      "outputs": []
    },
    {
      "cell_type": "markdown",
      "metadata": {
        "id": "NhBHftBBUoV_",
        "colab_type": "text"
      },
      "source": [
        "# Split Labeled & Unlabeled Training Data"
      ]
    },
    {
      "cell_type": "code",
      "metadata": {
        "id": "S_Ew6nc1Us8h",
        "colab_type": "code",
        "colab": {}
      },
      "source": [
        "train_data = data['train']\n",
        "\n",
        "df_train = pd.DataFrame(columns=['label','query'])\n",
        "\n",
        "for lst in train_data:\n",
        "    df_train = df_train.append({'label':lst[1],'query':lst[0]},ignore_index=True)"
      ],
      "execution_count": null,
      "outputs": []
    },
    {
      "cell_type": "code",
      "metadata": {
        "id": "I0xqqJkaU8HM",
        "colab_type": "code",
        "colab": {
          "base_uri": "https://localhost:8080/",
          "height": 402
        },
        "outputId": "70e9dff5-9447-4449-9f02-25135ec8c52e"
      },
      "source": [
        "df_train"
      ],
      "execution_count": null,
      "outputs": [
        {
          "output_type": "execute_result",
          "data": {
            "text/html": [
              "<div>\n",
              "<style scoped>\n",
              "    .dataframe tbody tr th:only-of-type {\n",
              "        vertical-align: middle;\n",
              "    }\n",
              "\n",
              "    .dataframe tbody tr th {\n",
              "        vertical-align: top;\n",
              "    }\n",
              "\n",
              "    .dataframe thead th {\n",
              "        text-align: right;\n",
              "    }\n",
              "</style>\n",
              "<table border=\"1\" class=\"dataframe\">\n",
              "  <thead>\n",
              "    <tr style=\"text-align: right;\">\n",
              "      <th></th>\n",
              "      <th>label</th>\n",
              "      <th>query</th>\n",
              "    </tr>\n",
              "  </thead>\n",
              "  <tbody>\n",
              "    <tr>\n",
              "      <th>0</th>\n",
              "      <td>translate</td>\n",
              "      <td>what expression would i use to say i love you ...</td>\n",
              "    </tr>\n",
              "    <tr>\n",
              "      <th>1</th>\n",
              "      <td>translate</td>\n",
              "      <td>can you tell me how to say 'i do not speak muc...</td>\n",
              "    </tr>\n",
              "    <tr>\n",
              "      <th>2</th>\n",
              "      <td>translate</td>\n",
              "      <td>what is the equivalent of, 'life is good' in f...</td>\n",
              "    </tr>\n",
              "    <tr>\n",
              "      <th>3</th>\n",
              "      <td>translate</td>\n",
              "      <td>tell me how to say, 'it is a beautiful morning...</td>\n",
              "    </tr>\n",
              "    <tr>\n",
              "      <th>4</th>\n",
              "      <td>translate</td>\n",
              "      <td>if i were mongolian, how would i say that i am...</td>\n",
              "    </tr>\n",
              "    <tr>\n",
              "      <th>...</th>\n",
              "      <td>...</td>\n",
              "      <td>...</td>\n",
              "    </tr>\n",
              "    <tr>\n",
              "      <th>14995</th>\n",
              "      <td>card_declined</td>\n",
              "      <td>can you explain why my card was declined</td>\n",
              "    </tr>\n",
              "    <tr>\n",
              "      <th>14996</th>\n",
              "      <td>card_declined</td>\n",
              "      <td>how come starbucks declined my card when i tri...</td>\n",
              "    </tr>\n",
              "    <tr>\n",
              "      <th>14997</th>\n",
              "      <td>card_declined</td>\n",
              "      <td>how come my card was not accepted yesterday</td>\n",
              "    </tr>\n",
              "    <tr>\n",
              "      <th>14998</th>\n",
              "      <td>card_declined</td>\n",
              "      <td>find out what happened to make my card get dec...</td>\n",
              "    </tr>\n",
              "    <tr>\n",
              "      <th>14999</th>\n",
              "      <td>card_declined</td>\n",
              "      <td>why was my card declined at safeway</td>\n",
              "    </tr>\n",
              "  </tbody>\n",
              "</table>\n",
              "<p>15000 rows × 2 columns</p>\n",
              "</div>"
            ],
            "text/plain": [
              "               label                                              query\n",
              "0          translate  what expression would i use to say i love you ...\n",
              "1          translate  can you tell me how to say 'i do not speak muc...\n",
              "2          translate  what is the equivalent of, 'life is good' in f...\n",
              "3          translate  tell me how to say, 'it is a beautiful morning...\n",
              "4          translate  if i were mongolian, how would i say that i am...\n",
              "...              ...                                                ...\n",
              "14995  card_declined           can you explain why my card was declined\n",
              "14996  card_declined  how come starbucks declined my card when i tri...\n",
              "14997  card_declined        how come my card was not accepted yesterday\n",
              "14998  card_declined  find out what happened to make my card get dec...\n",
              "14999  card_declined                why was my card declined at safeway\n",
              "\n",
              "[15000 rows x 2 columns]"
            ]
          },
          "metadata": {
            "tags": []
          },
          "execution_count": 14
        }
      ]
    },
    {
      "cell_type": "code",
      "metadata": {
        "id": "KacvcL6tVAgc",
        "colab_type": "code",
        "colab": {}
      },
      "source": [
        "#1st Variation\n",
        "split_labeled(labeled_prop=10,unlabeled_prop=90)"
      ],
      "execution_count": null,
      "outputs": []
    },
    {
      "cell_type": "code",
      "metadata": {
        "id": "WoOiBeHHVHDi",
        "colab_type": "code",
        "colab": {}
      },
      "source": [
        "#2nd Variation\n",
        "split_labeled(labeled_prop=20,unlabeled_prop=80)"
      ],
      "execution_count": null,
      "outputs": []
    },
    {
      "cell_type": "code",
      "metadata": {
        "id": "roxh5iI3VLaP",
        "colab_type": "code",
        "colab": {}
      },
      "source": [
        "#3rd Variation\n",
        "split_labeled(labeled_prop=40,unlabeled_prop=60)"
      ],
      "execution_count": null,
      "outputs": []
    },
    {
      "cell_type": "code",
      "metadata": {
        "id": "JVbYejg4VN8j",
        "colab_type": "code",
        "colab": {}
      },
      "source": [
        "#4th Variation\n",
        "split_labeled(labeled_prop=60,unlabeled_prop=40)"
      ],
      "execution_count": null,
      "outputs": []
    },
    {
      "cell_type": "code",
      "metadata": {
        "id": "cBedYvEVVPuZ",
        "colab_type": "code",
        "colab": {}
      },
      "source": [
        "#5th Variation\n",
        "split_labeled(labeled_prop=80,unlabeled_prop=20)"
      ],
      "execution_count": null,
      "outputs": []
    },
    {
      "cell_type": "code",
      "metadata": {
        "id": "3WbkiU4rVSkq",
        "colab_type": "code",
        "colab": {}
      },
      "source": [
        "#6th Variation\n",
        "split_labeled(labeled_prop=90,unlabeled_prop=10)"
      ],
      "execution_count": null,
      "outputs": []
    }
  ]
}